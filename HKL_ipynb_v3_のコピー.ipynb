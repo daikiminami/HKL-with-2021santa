{
  "nbformat": 4,
  "nbformat_minor": 0,
  "metadata": {
    "colab": {
      "name": "HKL.ipynb_v3 のコピー",
      "provenance": [],
      "collapsed_sections": []
    },
    "kernelspec": {
      "name": "python3",
      "display_name": "Python 3"
    },
    "language_info": {
      "name": "python"
    }
  },
  "cells": [
    {
      "cell_type": "code",
      "execution_count": null,
      "metadata": {
        "colab": {
          "base_uri": "https://localhost:8080/"
        },
        "id": "TKNG8MGlJgTu",
        "outputId": "7bd7c5ab-2172-499f-b2a2-414319b859a5"
      },
      "outputs": [
        {
          "output_type": "stream",
          "name": "stderr",
          "text": [
            "rm: cannot remove 'LKH-2.0.9': No such file or directory\n",
            "--2021-12-27 14:46:51--  http://akira.ruc.dk/~keld/research/LKH/LKH-2.0.9.tgz\n",
            "Resolving akira.ruc.dk (akira.ruc.dk)... 130.225.220.230\n",
            "Connecting to akira.ruc.dk (akira.ruc.dk)|130.225.220.230|:80... connected.\n",
            "HTTP request sent, awaiting response... 200 OK\n",
            "Length: 1508124 (1.4M) [application/x-gzip]\n",
            "Saving to: ‘LKH-2.0.9.tgz’\n",
            "\n",
            "     0K .......... .......... .......... .......... ..........  3% 91.0K 16s\n",
            "    50K .......... .......... .......... .......... ..........  6%  183K 11s\n",
            "   100K .......... .......... .......... .......... .......... 10% 7.60M 7s\n",
            "   150K .......... .......... .......... .......... .......... 13%  181K 7s\n",
            "   200K .......... .......... .......... .......... .......... 16% 60.3M 5s\n",
            "   250K .......... .......... .......... .......... .......... 20% 70.5M 4s\n",
            "   300K .......... .......... .......... .......... .......... 23% 76.9M 4s\n",
            "   350K .......... .......... .......... .......... .......... 27%  186K 4s\n",
            "   400K .......... .......... .......... .......... .......... 30% 99.4M 3s\n",
            "   450K .......... .......... .......... .......... .......... 33% 72.2M 3s\n",
            "   500K .......... .......... .......... .......... .......... 37% 64.8M 2s\n",
            "   550K .......... .......... .......... .......... .......... 40% 73.3M 2s\n",
            "   600K .......... .......... .......... .......... .......... 44%  163M 2s\n",
            "   650K .......... .......... .......... .......... .......... 47%  240M 2s\n",
            "   700K .......... .......... .......... .......... .......... 50%  253M 1s\n",
            "   750K .......... .......... .......... .......... .......... 54%  186K 1s\n",
            "   800K .......... .......... .......... .......... .......... 57% 97.3M 1s\n",
            "   850K .......... .......... .......... .......... .......... 61%  321M 1s\n",
            "   900K .......... .......... .......... .......... .......... 64%  394M 1s\n",
            "   950K .......... .......... .......... .......... .......... 67%  379M 1s\n",
            "  1000K .......... .......... .......... .......... .......... 71%  440M 1s\n",
            "  1050K .......... .......... .......... .......... .......... 74%  318M 1s\n",
            "  1100K .......... .......... .......... .......... .......... 78%  455M 0s\n",
            "  1150K .......... .......... .......... .......... .......... 81%  377M 0s\n",
            "  1200K .......... .......... .......... .......... .......... 84%  430M 0s\n",
            "  1250K .......... .......... .......... .......... .......... 88% 1.20M 0s\n",
            "  1300K .......... .......... .......... .......... .......... 91% 69.0M 0s\n",
            "  1350K .......... .......... .......... .......... .......... 95%  211M 0s\n",
            "  1400K .......... .......... .......... .......... .......... 98%  221K 0s\n",
            "  1450K .......... .......... ..                              100% 60.8M=1.9s\n",
            "\n",
            "2021-12-27 14:46:54 (768 KB/s) - ‘LKH-2.0.9.tgz’ saved [1508124/1508124]\n",
            "\n"
          ]
        }
      ],
      "source": [
        "%%bash\n",
        "rm -r LKH-2.0.9\n",
        "rm LKH-2.0.9.t*\n",
        "wget http://akira.ruc.dk/~keld/research/LKH/LKH-2.0.9.tgz"
      ]
    },
    {
      "cell_type": "code",
      "source": [
        "%%bash\n",
        "tar xzvf LKH-2.0.9.tgz\n",
        "cd LKH-2.0.9\n",
        "make\n",
        "ls"
      ],
      "metadata": {
        "colab": {
          "base_uri": "https://localhost:8080/"
        },
        "id": "FJR3E-a1LpeX",
        "outputId": "de4c778c-26e5-4b67-a189-419d0d24dafa"
      },
      "execution_count": null,
      "outputs": [
        {
          "output_type": "stream",
          "name": "stdout",
          "text": [
            "LKH-2.0.9/\n",
            "LKH-2.0.9/pr2392.par\n",
            "LKH-2.0.9/E3k.0.par\n",
            "LKH-2.0.9/Makefile\n",
            "LKH-2.0.9/xray14012_1.tsp\n",
            "LKH-2.0.9/LKH-2.0.9.tgz\n",
            "LKH-2.0.9/E3k.0.pi\n",
            "LKH-2.0.9/E3k.0.tsp\n",
            "LKH-2.0.9/pr2392.tsp\n",
            "LKH-2.0.9/DOC/\n",
            "LKH-2.0.9/README.txt\n",
            "LKH-2.0.9/xray14012_1.par\n",
            "LKH-2.0.9/SRC/\n",
            "LKH-2.0.9/SRC/RestoreTour.c\n",
            "LKH-2.0.9/SRC/SolveKMeansSubproblems.c\n",
            "LKH-2.0.9/SRC/IsCommonEdge.c\n",
            "LKH-2.0.9/SRC/ReadProblem.c\n",
            "LKH-2.0.9/SRC/BestKOptMove.c\n",
            "LKH-2.0.9/SRC/Distance_SPECIAL.c\n",
            "LKH-2.0.9/SRC/CreateCandidateSet.c\n",
            "LKH-2.0.9/SRC/OBJ/\n",
            "LKH-2.0.9/SRC/Forbidden.c\n",
            "LKH-2.0.9/SRC/Best5OptMove.c\n",
            "LKH-2.0.9/SRC/RecordBetterTour.c\n",
            "LKH-2.0.9/SRC/Best4OptMove.c\n",
            "LKH-2.0.9/SRC/Exclude.c\n",
            "LKH-2.0.9/SRC/C.c\n",
            "LKH-2.0.9/SRC/IsCandidate.c\n",
            "LKH-2.0.9/SRC/Make3OptMove.c\n",
            "LKH-2.0.9/SRC/Make2OptMove.c\n",
            "LKH-2.0.9/SRC/ResetCandidateSet.c\n",
            "LKH-2.0.9/SRC/LKHmain.c\n",
            "LKH-2.0.9/SRC/SolveSFCSubproblems.c\n",
            "LKH-2.0.9/SRC/ERXT.c\n",
            "LKH-2.0.9/SRC/fscanint.c\n",
            "LKH-2.0.9/SRC/eprintf.c\n",
            "LKH-2.0.9/SRC/Gain23.c\n",
            "LKH-2.0.9/SRC/Heap.c\n",
            "LKH-2.0.9/SRC/GetTime.c\n",
            "LKH-2.0.9/SRC/SolveRoheSubproblems.c\n",
            "LKH-2.0.9/SRC/ReadPenalties.c\n",
            "LKH-2.0.9/SRC/Excludable.c\n",
            "LKH-2.0.9/SRC/SolveCompressedSubproblem.c\n",
            "LKH-2.0.9/SRC/Statistics.c\n",
            "LKH-2.0.9/SRC/PatchCycles.c\n",
            "LKH-2.0.9/SRC/MergeWithTourGPX2.c\n",
            "LKH-2.0.9/SRC/Sequence.c\n",
            "LKH-2.0.9/SRC/SolveDelaunaySubproblems.c\n",
            "LKH-2.0.9/SRC/WritePenalties.c\n",
            "LKH-2.0.9/SRC/NormalizeNodeList.c\n",
            "LKH-2.0.9/SRC/FreeStructures.c\n",
            "LKH-2.0.9/SRC/SolveKarpSubproblems.c\n",
            "LKH-2.0.9/SRC/Makefile\n",
            "LKH-2.0.9/SRC/Between_SL.c\n",
            "LKH-2.0.9/SRC/INCLUDE/\n",
            "LKH-2.0.9/SRC/IsPossibleCandidate.c\n",
            "LKH-2.0.9/SRC/NormalizeSegmentList.c\n",
            "LKH-2.0.9/SRC/Hashing.c\n",
            "LKH-2.0.9/SRC/LinKernighan.c\n",
            "LKH-2.0.9/SRC/gpx.c\n",
            "LKH-2.0.9/SRC/AdjustCandidateSet.c\n",
            "LKH-2.0.9/SRC/AllocateStructures.c\n",
            "LKH-2.0.9/SRC/Flip_SSL.c\n",
            "LKH-2.0.9/SRC/MakeKOptMove.c\n",
            "LKH-2.0.9/SRC/BuildKDTree.c\n",
            "LKH-2.0.9/SRC/SolveTourSegmentSubproblems.c\n",
            "LKH-2.0.9/SRC/Random.c\n",
            "LKH-2.0.9/SRC/CreateDelaunayCandidateSet.c\n",
            "LKH-2.0.9/SRC/SolveSubproblemBorderProblems.c\n",
            "LKH-2.0.9/SRC/ReadParameters.c\n",
            "LKH-2.0.9/SRC/FixedOrCommonCandidates.c\n",
            "LKH-2.0.9/SRC/Best2OptMove.c\n",
            "LKH-2.0.9/SRC/Best3OptMove.c\n",
            "LKH-2.0.9/SRC/ReadCandidates.c\n",
            "LKH-2.0.9/SRC/Make4OptMove.c\n",
            "LKH-2.0.9/SRC/Make5OptMove.c\n",
            "LKH-2.0.9/SRC/CreateNNCandidateSet.c\n",
            "LKH-2.0.9/SRC/GenerateCandidates.c\n",
            "LKH-2.0.9/SRC/Between.c\n",
            "LKH-2.0.9/SRC/Flip_SL.c\n",
            "LKH-2.0.9/SRC/Activate.c\n",
            "LKH-2.0.9/SRC/SegmentSize.c\n",
            "LKH-2.0.9/SRC/SolveSubproblem.c\n",
            "LKH-2.0.9/SRC/MergeWithTourIPT.c\n",
            "LKH-2.0.9/SRC/StoreTour.c\n",
            "LKH-2.0.9/SRC/GreedyTour.c\n",
            "LKH-2.0.9/SRC/PrintParameters.c\n",
            "LKH-2.0.9/SRC/SFCTour.c\n",
            "LKH-2.0.9/SRC/Minimum1TreeCost.c\n",
            "LKH-2.0.9/SRC/MergeTourWithBestTour.c\n",
            "LKH-2.0.9/SRC/ReadEdges.c\n",
            "LKH-2.0.9/SRC/BridgeGain.c\n",
            "LKH-2.0.9/SRC/WriteCandidates.c\n",
            "LKH-2.0.9/SRC/Flip.c\n",
            "LKH-2.0.9/SRC/WriteTour.c\n",
            "LKH-2.0.9/SRC/Delaunay.c\n",
            "LKH-2.0.9/SRC/CreateQuadrantCandidateSet.c\n",
            "LKH-2.0.9/SRC/IsBackboneCandidate.c\n",
            "LKH-2.0.9/SRC/ReadLine.c\n",
            "LKH-2.0.9/SRC/RecordBestTour.c\n",
            "LKH-2.0.9/SRC/CandidateReport.c\n",
            "LKH-2.0.9/SRC/OrderCandidateSet.c\n",
            "LKH-2.0.9/SRC/AddExtraCandidates.c\n",
            "LKH-2.0.9/SRC/Distance.c\n",
            "LKH-2.0.9/SRC/Genetic.c\n",
            "LKH-2.0.9/SRC/AdjustClusters.c\n",
            "LKH-2.0.9/SRC/AddTourCandidates.c\n",
            "LKH-2.0.9/SRC/KSwapKick.c\n",
            "LKH-2.0.9/SRC/Connect.c\n",
            "LKH-2.0.9/SRC/RemoveFirstActive.c\n",
            "LKH-2.0.9/SRC/Ascent.c\n",
            "LKH-2.0.9/SRC/TrimCandidateSet.c\n",
            "LKH-2.0.9/SRC/LKH.c\n",
            "LKH-2.0.9/SRC/printff.c\n",
            "LKH-2.0.9/SRC/Between_SSL.c\n",
            "LKH-2.0.9/SRC/Create_POPMUSIC_CandidateSet.c\n",
            "LKH-2.0.9/SRC/GeoConversion.c\n",
            "LKH-2.0.9/SRC/FindTour.c\n",
            "LKH-2.0.9/SRC/SymmetrizeCandidateSet.c\n",
            "LKH-2.0.9/SRC/ChooseInitialTour.c\n",
            "LKH-2.0.9/SRC/SolveKCenterSubproblems.c\n",
            "LKH-2.0.9/SRC/AddCandidate.c\n",
            "LKH-2.0.9/SRC/MinimumSpanningTree.c\n",
            "LKH-2.0.9/SRC/INCLUDE/Genetic.h\n",
            "LKH-2.0.9/SRC/INCLUDE/Segment.h\n",
            "LKH-2.0.9/SRC/INCLUDE/Delaunay.h\n",
            "LKH-2.0.9/SRC/INCLUDE/GeoConversion.h\n",
            "LKH-2.0.9/SRC/INCLUDE/LKH.h\n",
            "LKH-2.0.9/SRC/INCLUDE/Sequence.h\n",
            "LKH-2.0.9/SRC/INCLUDE/GainType.h\n",
            "LKH-2.0.9/SRC/INCLUDE/Heap.h\n",
            "LKH-2.0.9/SRC/INCLUDE/Hashing.h\n",
            "LKH-2.0.9/SRC/INCLUDE/gpx.h\n",
            "LKH-2.0.9/DOC/POPMUSIC_REPORT.pdf\n",
            "LKH-2.0.9/DOC/LKH_Genetic.pdf\n",
            "LKH-2.0.9/DOC/LKH_REPORT.pdf\n",
            "LKH-2.0.9/DOC/LKH-2_USER_GUIDE.pdf\n",
            "LKH-2.0.9/DOC/TSPLIB_DOC.pdf\n",
            "make -C SRC all\n",
            "make[1]: Entering directory '/content/LKH-2.0.9/SRC'\n",
            "make LKH\n",
            "make[2]: Entering directory '/content/LKH-2.0.9/SRC'\n",
            "cc -c -o OBJ/Activate.o Activate.c -O3 -Wall -IINCLUDE -DTWO_LEVEL_TREE -g\n",
            "cc -c -o OBJ/AddCandidate.o AddCandidate.c -O3 -Wall -IINCLUDE -DTWO_LEVEL_TREE -g\n",
            "cc -c -o OBJ/AddExtraCandidates.o AddExtraCandidates.c -O3 -Wall -IINCLUDE -DTWO_LEVEL_TREE -g\n",
            "cc -c -o OBJ/AddTourCandidates.o AddTourCandidates.c -O3 -Wall -IINCLUDE -DTWO_LEVEL_TREE -g\n",
            "cc -c -o OBJ/AdjustCandidateSet.o AdjustCandidateSet.c -O3 -Wall -IINCLUDE -DTWO_LEVEL_TREE -g\n",
            "cc -c -o OBJ/AdjustClusters.o AdjustClusters.c -O3 -Wall -IINCLUDE -DTWO_LEVEL_TREE -g\n",
            "cc -c -o OBJ/AllocateStructures.o AllocateStructures.c -O3 -Wall -IINCLUDE -DTWO_LEVEL_TREE -g\n",
            "cc -c -o OBJ/Ascent.o Ascent.c -O3 -Wall -IINCLUDE -DTWO_LEVEL_TREE -g\n",
            "cc -c -o OBJ/Best2OptMove.o Best2OptMove.c -O3 -Wall -IINCLUDE -DTWO_LEVEL_TREE -g\n",
            "cc -c -o OBJ/Best3OptMove.o Best3OptMove.c -O3 -Wall -IINCLUDE -DTWO_LEVEL_TREE -g\n",
            "cc -c -o OBJ/Best4OptMove.o Best4OptMove.c -O3 -Wall -IINCLUDE -DTWO_LEVEL_TREE -g\n",
            "cc -c -o OBJ/Best5OptMove.o Best5OptMove.c -O3 -Wall -IINCLUDE -DTWO_LEVEL_TREE -g\n",
            "cc -c -o OBJ/BestKOptMove.o BestKOptMove.c -O3 -Wall -IINCLUDE -DTWO_LEVEL_TREE -g\n",
            "cc -c -o OBJ/Between.o Between.c -O3 -Wall -IINCLUDE -DTWO_LEVEL_TREE -g\n",
            "cc -c -o OBJ/Between_SL.o Between_SL.c -O3 -Wall -IINCLUDE -DTWO_LEVEL_TREE -g\n",
            "cc -c -o OBJ/Between_SSL.o Between_SSL.c -O3 -Wall -IINCLUDE -DTWO_LEVEL_TREE -g\n",
            "cc -c -o OBJ/BridgeGain.o BridgeGain.c -O3 -Wall -IINCLUDE -DTWO_LEVEL_TREE -g\n",
            "cc -c -o OBJ/BuildKDTree.o BuildKDTree.c -O3 -Wall -IINCLUDE -DTWO_LEVEL_TREE -g\n",
            "cc -c -o OBJ/C.o C.c -O3 -Wall -IINCLUDE -DTWO_LEVEL_TREE -g\n",
            "cc -c -o OBJ/CandidateReport.o CandidateReport.c -O3 -Wall -IINCLUDE -DTWO_LEVEL_TREE -g\n",
            "cc -c -o OBJ/ChooseInitialTour.o ChooseInitialTour.c -O3 -Wall -IINCLUDE -DTWO_LEVEL_TREE -g\n",
            "cc -c -o OBJ/Connect.o Connect.c -O3 -Wall -IINCLUDE -DTWO_LEVEL_TREE -g\n",
            "cc -c -o OBJ/CreateCandidateSet.o CreateCandidateSet.c -O3 -Wall -IINCLUDE -DTWO_LEVEL_TREE -g\n",
            "cc -c -o OBJ/CreateDelaunayCandidateSet.o CreateDelaunayCandidateSet.c -O3 -Wall -IINCLUDE -DTWO_LEVEL_TREE -g\n",
            "cc -c -o OBJ/CreateNNCandidateSet.o CreateNNCandidateSet.c -O3 -Wall -IINCLUDE -DTWO_LEVEL_TREE -g\n",
            "cc -c -o OBJ/Create_POPMUSIC_CandidateSet.o Create_POPMUSIC_CandidateSet.c -O3 -Wall -IINCLUDE -DTWO_LEVEL_TREE -g\n",
            "cc -c -o OBJ/CreateQuadrantCandidateSet.o CreateQuadrantCandidateSet.c -O3 -Wall -IINCLUDE -DTWO_LEVEL_TREE -g\n",
            "cc -c -o OBJ/Delaunay.o Delaunay.c -O3 -Wall -IINCLUDE -DTWO_LEVEL_TREE -g\n",
            "cc -c -o OBJ/Distance.o Distance.c -O3 -Wall -IINCLUDE -DTWO_LEVEL_TREE -g\n",
            "cc -c -o OBJ/Distance_SPECIAL.o Distance_SPECIAL.c -O3 -Wall -IINCLUDE -DTWO_LEVEL_TREE -g\n",
            "cc -c -o OBJ/eprintf.o eprintf.c -O3 -Wall -IINCLUDE -DTWO_LEVEL_TREE -g\n",
            "cc -c -o OBJ/ERXT.o ERXT.c -O3 -Wall -IINCLUDE -DTWO_LEVEL_TREE -g\n",
            "cc -c -o OBJ/Excludable.o Excludable.c -O3 -Wall -IINCLUDE -DTWO_LEVEL_TREE -g\n",
            "cc -c -o OBJ/Exclude.o Exclude.c -O3 -Wall -IINCLUDE -DTWO_LEVEL_TREE -g\n",
            "cc -c -o OBJ/FindTour.o FindTour.c -O3 -Wall -IINCLUDE -DTWO_LEVEL_TREE -g\n",
            "cc -c -o OBJ/FixedOrCommonCandidates.o FixedOrCommonCandidates.c -O3 -Wall -IINCLUDE -DTWO_LEVEL_TREE -g\n",
            "cc -c -o OBJ/Flip.o Flip.c -O3 -Wall -IINCLUDE -DTWO_LEVEL_TREE -g\n",
            "cc -c -o OBJ/Flip_SL.o Flip_SL.c -O3 -Wall -IINCLUDE -DTWO_LEVEL_TREE -g\n",
            "cc -c -o OBJ/Flip_SSL.o Flip_SSL.c -O3 -Wall -IINCLUDE -DTWO_LEVEL_TREE -g\n",
            "cc -c -o OBJ/Forbidden.o Forbidden.c -O3 -Wall -IINCLUDE -DTWO_LEVEL_TREE -g\n",
            "cc -c -o OBJ/FreeStructures.o FreeStructures.c -O3 -Wall -IINCLUDE -DTWO_LEVEL_TREE -g\n",
            "cc -c -o OBJ/fscanint.o fscanint.c -O3 -Wall -IINCLUDE -DTWO_LEVEL_TREE -g\n",
            "cc -c -o OBJ/Gain23.o Gain23.c -O3 -Wall -IINCLUDE -DTWO_LEVEL_TREE -g\n",
            "cc -c -o OBJ/GenerateCandidates.o GenerateCandidates.c -O3 -Wall -IINCLUDE -DTWO_LEVEL_TREE -g\n",
            "cc -c -o OBJ/Genetic.o Genetic.c -O3 -Wall -IINCLUDE -DTWO_LEVEL_TREE -g\n",
            "cc -c -o OBJ/GeoConversion.o GeoConversion.c -O3 -Wall -IINCLUDE -DTWO_LEVEL_TREE -g\n",
            "cc -c -o OBJ/GetTime.o GetTime.c -O3 -Wall -IINCLUDE -DTWO_LEVEL_TREE -g\n",
            "cc -c -o OBJ/GreedyTour.o GreedyTour.c -O3 -Wall -IINCLUDE -DTWO_LEVEL_TREE -g\n",
            "cc -c -o OBJ/Hashing.o Hashing.c -O3 -Wall -IINCLUDE -DTWO_LEVEL_TREE -g\n",
            "cc -c -o OBJ/Heap.o Heap.c -O3 -Wall -IINCLUDE -DTWO_LEVEL_TREE -g\n",
            "cc -c -o OBJ/IsBackboneCandidate.o IsBackboneCandidate.c -O3 -Wall -IINCLUDE -DTWO_LEVEL_TREE -g\n",
            "cc -c -o OBJ/IsCandidate.o IsCandidate.c -O3 -Wall -IINCLUDE -DTWO_LEVEL_TREE -g\n",
            "cc -c -o OBJ/IsCommonEdge.o IsCommonEdge.c -O3 -Wall -IINCLUDE -DTWO_LEVEL_TREE -g\n",
            "cc -c -o OBJ/IsPossibleCandidate.o IsPossibleCandidate.c -O3 -Wall -IINCLUDE -DTWO_LEVEL_TREE -g\n",
            "cc -c -o OBJ/KSwapKick.o KSwapKick.c -O3 -Wall -IINCLUDE -DTWO_LEVEL_TREE -g\n",
            "cc -c -o OBJ/LinKernighan.o LinKernighan.c -O3 -Wall -IINCLUDE -DTWO_LEVEL_TREE -g\n",
            "cc -c -o OBJ/LKHmain.o LKHmain.c -O3 -Wall -IINCLUDE -DTWO_LEVEL_TREE -g\n",
            "cc -c -o OBJ/Make2OptMove.o Make2OptMove.c -O3 -Wall -IINCLUDE -DTWO_LEVEL_TREE -g\n",
            "cc -c -o OBJ/Make3OptMove.o Make3OptMove.c -O3 -Wall -IINCLUDE -DTWO_LEVEL_TREE -g\n",
            "cc -c -o OBJ/Make4OptMove.o Make4OptMove.c -O3 -Wall -IINCLUDE -DTWO_LEVEL_TREE -g\n",
            "cc -c -o OBJ/Make5OptMove.o Make5OptMove.c -O3 -Wall -IINCLUDE -DTWO_LEVEL_TREE -g\n",
            "cc -c -o OBJ/MakeKOptMove.o MakeKOptMove.c -O3 -Wall -IINCLUDE -DTWO_LEVEL_TREE -g\n",
            "cc -c -o OBJ/MergeTourWithBestTour.o MergeTourWithBestTour.c -O3 -Wall -IINCLUDE -DTWO_LEVEL_TREE -g\n",
            "cc -c -o OBJ/MergeWithTourIPT.o MergeWithTourIPT.c -O3 -Wall -IINCLUDE -DTWO_LEVEL_TREE -g\n",
            "cc -c -o OBJ/Minimum1TreeCost.o Minimum1TreeCost.c -O3 -Wall -IINCLUDE -DTWO_LEVEL_TREE -g\n",
            "cc -c -o OBJ/MinimumSpanningTree.o MinimumSpanningTree.c -O3 -Wall -IINCLUDE -DTWO_LEVEL_TREE -g\n",
            "cc -c -o OBJ/NormalizeNodeList.o NormalizeNodeList.c -O3 -Wall -IINCLUDE -DTWO_LEVEL_TREE -g\n",
            "cc -c -o OBJ/NormalizeSegmentList.o NormalizeSegmentList.c -O3 -Wall -IINCLUDE -DTWO_LEVEL_TREE -g\n",
            "cc -c -o OBJ/OrderCandidateSet.o OrderCandidateSet.c -O3 -Wall -IINCLUDE -DTWO_LEVEL_TREE -g\n",
            "cc -c -o OBJ/PatchCycles.o PatchCycles.c -O3 -Wall -IINCLUDE -DTWO_LEVEL_TREE -g\n",
            "cc -c -o OBJ/printff.o printff.c -O3 -Wall -IINCLUDE -DTWO_LEVEL_TREE -g\n",
            "cc -c -o OBJ/PrintParameters.o PrintParameters.c -O3 -Wall -IINCLUDE -DTWO_LEVEL_TREE -g\n",
            "cc -c -o OBJ/Random.o Random.c -O3 -Wall -IINCLUDE -DTWO_LEVEL_TREE -g\n",
            "cc -c -o OBJ/ReadCandidates.o ReadCandidates.c -O3 -Wall -IINCLUDE -DTWO_LEVEL_TREE -g\n",
            "cc -c -o OBJ/ReadEdges.o ReadEdges.c -O3 -Wall -IINCLUDE -DTWO_LEVEL_TREE -g\n",
            "cc -c -o OBJ/ReadLine.o ReadLine.c -O3 -Wall -IINCLUDE -DTWO_LEVEL_TREE -g\n",
            "cc -c -o OBJ/ReadParameters.o ReadParameters.c -O3 -Wall -IINCLUDE -DTWO_LEVEL_TREE -g\n",
            "cc -c -o OBJ/ReadPenalties.o ReadPenalties.c -O3 -Wall -IINCLUDE -DTWO_LEVEL_TREE -g\n",
            "cc -c -o OBJ/ReadProblem.o ReadProblem.c -O3 -Wall -IINCLUDE -DTWO_LEVEL_TREE -g\n",
            "cc -c -o OBJ/RecordBestTour.o RecordBestTour.c -O3 -Wall -IINCLUDE -DTWO_LEVEL_TREE -g\n",
            "cc -c -o OBJ/RecordBetterTour.o RecordBetterTour.c -O3 -Wall -IINCLUDE -DTWO_LEVEL_TREE -g\n",
            "cc -c -o OBJ/RemoveFirstActive.o RemoveFirstActive.c -O3 -Wall -IINCLUDE -DTWO_LEVEL_TREE -g\n",
            "cc -c -o OBJ/ResetCandidateSet.o ResetCandidateSet.c -O3 -Wall -IINCLUDE -DTWO_LEVEL_TREE -g\n",
            "cc -c -o OBJ/RestoreTour.o RestoreTour.c -O3 -Wall -IINCLUDE -DTWO_LEVEL_TREE -g\n",
            "cc -c -o OBJ/SegmentSize.o SegmentSize.c -O3 -Wall -IINCLUDE -DTWO_LEVEL_TREE -g\n",
            "cc -c -o OBJ/Sequence.o Sequence.c -O3 -Wall -IINCLUDE -DTWO_LEVEL_TREE -g\n",
            "cc -c -o OBJ/SFCTour.o SFCTour.c -O3 -Wall -IINCLUDE -DTWO_LEVEL_TREE -g\n",
            "cc -c -o OBJ/SolveCompressedSubproblem.o SolveCompressedSubproblem.c -O3 -Wall -IINCLUDE -DTWO_LEVEL_TREE -g\n",
            "cc -c -o OBJ/SolveDelaunaySubproblems.o SolveDelaunaySubproblems.c -O3 -Wall -IINCLUDE -DTWO_LEVEL_TREE -g\n",
            "cc -c -o OBJ/SolveKarpSubproblems.o SolveKarpSubproblems.c -O3 -Wall -IINCLUDE -DTWO_LEVEL_TREE -g\n",
            "cc -c -o OBJ/SolveKCenterSubproblems.o SolveKCenterSubproblems.c -O3 -Wall -IINCLUDE -DTWO_LEVEL_TREE -g\n",
            "cc -c -o OBJ/SolveKMeansSubproblems.o SolveKMeansSubproblems.c -O3 -Wall -IINCLUDE -DTWO_LEVEL_TREE -g\n",
            "cc -c -o OBJ/SolveRoheSubproblems.o SolveRoheSubproblems.c -O3 -Wall -IINCLUDE -DTWO_LEVEL_TREE -g\n",
            "cc -c -o OBJ/SolveSFCSubproblems.o SolveSFCSubproblems.c -O3 -Wall -IINCLUDE -DTWO_LEVEL_TREE -g\n",
            "cc -c -o OBJ/SolveSubproblem.o SolveSubproblem.c -O3 -Wall -IINCLUDE -DTWO_LEVEL_TREE -g\n",
            "cc -c -o OBJ/SolveSubproblemBorderProblems.o SolveSubproblemBorderProblems.c -O3 -Wall -IINCLUDE -DTWO_LEVEL_TREE -g\n",
            "cc -c -o OBJ/SolveTourSegmentSubproblems.o SolveTourSegmentSubproblems.c -O3 -Wall -IINCLUDE -DTWO_LEVEL_TREE -g\n",
            "cc -c -o OBJ/Statistics.o Statistics.c -O3 -Wall -IINCLUDE -DTWO_LEVEL_TREE -g\n",
            "cc -c -o OBJ/StoreTour.o StoreTour.c -O3 -Wall -IINCLUDE -DTWO_LEVEL_TREE -g\n",
            "cc -c -o OBJ/SymmetrizeCandidateSet.o SymmetrizeCandidateSet.c -O3 -Wall -IINCLUDE -DTWO_LEVEL_TREE -g\n",
            "cc -c -o OBJ/TrimCandidateSet.o TrimCandidateSet.c -O3 -Wall -IINCLUDE -DTWO_LEVEL_TREE -g\n",
            "cc -c -o OBJ/WriteCandidates.o WriteCandidates.c -O3 -Wall -IINCLUDE -DTWO_LEVEL_TREE -g\n",
            "cc -c -o OBJ/WritePenalties.o WritePenalties.c -O3 -Wall -IINCLUDE -DTWO_LEVEL_TREE -g\n",
            "cc -c -o OBJ/WriteTour.o WriteTour.c -O3 -Wall -IINCLUDE -DTWO_LEVEL_TREE -g\n",
            "cc -c -o OBJ/MergeWithTourGPX2.o MergeWithTourGPX2.c -O3 -Wall -IINCLUDE -DTWO_LEVEL_TREE -g\n",
            "cc -c -o OBJ/gpx.o gpx.c -O3 -Wall -IINCLUDE -DTWO_LEVEL_TREE -g\n",
            "cc -c -o OBJ/LKH.o LKH.c -O3 -Wall -IINCLUDE -DTWO_LEVEL_TREE -g\n",
            "cc -o ../LKH OBJ/Activate.o OBJ/AddCandidate.o OBJ/AddExtraCandidates.o OBJ/AddTourCandidates.o OBJ/AdjustCandidateSet.o OBJ/AdjustClusters.o OBJ/AllocateStructures.o OBJ/Ascent.o OBJ/Best2OptMove.o OBJ/Best3OptMove.o OBJ/Best4OptMove.o OBJ/Best5OptMove.o OBJ/BestKOptMove.o OBJ/Between.o OBJ/Between_SL.o OBJ/Between_SSL.o OBJ/BridgeGain.o OBJ/BuildKDTree.o OBJ/C.o OBJ/CandidateReport.o OBJ/ChooseInitialTour.o OBJ/Connect.o OBJ/CreateCandidateSet.o OBJ/CreateDelaunayCandidateSet.o OBJ/CreateNNCandidateSet.o OBJ/Create_POPMUSIC_CandidateSet.o OBJ/CreateQuadrantCandidateSet.o OBJ/Delaunay.o OBJ/Distance.o OBJ/Distance_SPECIAL.o OBJ/eprintf.o OBJ/ERXT.o OBJ/Excludable.o OBJ/Exclude.o OBJ/FindTour.o OBJ/FixedOrCommonCandidates.o OBJ/Flip.o OBJ/Flip_SL.o OBJ/Flip_SSL.o OBJ/Forbidden.o OBJ/FreeStructures.o OBJ/fscanint.o OBJ/Gain23.o OBJ/GenerateCandidates.o OBJ/Genetic.o OBJ/GeoConversion.o OBJ/GetTime.o OBJ/GreedyTour.o OBJ/Hashing.o OBJ/Heap.o OBJ/IsBackboneCandidate.o OBJ/IsCandidate.o OBJ/IsCommonEdge.o OBJ/IsPossibleCandidate.o OBJ/KSwapKick.o OBJ/LinKernighan.o OBJ/LKHmain.o OBJ/Make2OptMove.o OBJ/Make3OptMove.o OBJ/Make4OptMove.o OBJ/Make5OptMove.o OBJ/MakeKOptMove.o OBJ/MergeTourWithBestTour.o OBJ/MergeWithTourIPT.o OBJ/Minimum1TreeCost.o OBJ/MinimumSpanningTree.o OBJ/NormalizeNodeList.o OBJ/NormalizeSegmentList.o OBJ/OrderCandidateSet.o OBJ/PatchCycles.o OBJ/printff.o OBJ/PrintParameters.o OBJ/Random.o OBJ/ReadCandidates.o OBJ/ReadEdges.o OBJ/ReadLine.o OBJ/ReadParameters.o OBJ/ReadPenalties.o OBJ/ReadProblem.o OBJ/RecordBestTour.o OBJ/RecordBetterTour.o OBJ/RemoveFirstActive.o OBJ/ResetCandidateSet.o OBJ/RestoreTour.o OBJ/SegmentSize.o OBJ/Sequence.o OBJ/SFCTour.o OBJ/SolveCompressedSubproblem.o OBJ/SolveDelaunaySubproblems.o OBJ/SolveKarpSubproblems.o OBJ/SolveKCenterSubproblems.o OBJ/SolveKMeansSubproblems.o OBJ/SolveRoheSubproblems.o OBJ/SolveSFCSubproblems.o OBJ/SolveSubproblem.o OBJ/SolveSubproblemBorderProblems.o OBJ/SolveTourSegmentSubproblems.o OBJ/Statistics.o OBJ/StoreTour.o OBJ/SymmetrizeCandidateSet.o OBJ/TrimCandidateSet.o OBJ/WriteCandidates.o OBJ/WritePenalties.o OBJ/WriteTour.o OBJ/MergeWithTourGPX2.o OBJ/gpx.o OBJ/LKH.o -O3 -Wall -IINCLUDE -DTWO_LEVEL_TREE -g -lm\n",
            "make[2]: Leaving directory '/content/LKH-2.0.9/SRC'\n",
            "make[1]: Leaving directory '/content/LKH-2.0.9/SRC'\n",
            "DOC\n",
            "E3k.0.par\n",
            "E3k.0.pi\n",
            "E3k.0.tsp\n",
            "LKH\n",
            "LKH-2.0.9.tgz\n",
            "Makefile\n",
            "pr2392.par\n",
            "pr2392.tsp\n",
            "README.txt\n",
            "SRC\n",
            "xray14012_1.par\n",
            "xray14012_1.tsp\n"
          ]
        },
        {
          "output_type": "stream",
          "name": "stderr",
          "text": [
            "KSwapKick.c: In function ‘KSwapKick’:\n",
            "KSwapKick.c:33:5: warning: assuming signed overflow does not occur when assuming that (X + c) < X is always false [-Wstrict-overflow]\n",
            "     for (i = 1; i < K; i++) {\n",
            "     ^~~\n",
            "ReadEdges.c: In function ‘ReadEdges’:\n",
            "ReadEdges.c:31:9: warning: ignoring return value of ‘fscanf’, declared with attribute warn_unused_result [-Wunused-result]\n",
            "         fscanf(EdgeFile, \"%d %d\\n\", &i, &Edges);\n",
            "         ^~~~~~~~~~~~~~~~~~~~~~~~~~~~~~~~~~~~~~~\n",
            "ReadEdges.c:36:13: warning: ignoring return value of ‘fgets’, declared with attribute warn_unused_result [-Wunused-result]\n",
            "             fgets(line, 80, EdgeFile);\n",
            "             ^~~~~~~~~~~~~~~~~~~~~~~~~\n"
          ]
        }
      ]
    },
    {
      "cell_type": "code",
      "source": [
        "%%bash\n",
        "cd LKH-2.0.9\n",
        "mv LKH ..\n",
        "cd ..\n",
        "ls"
      ],
      "metadata": {
        "colab": {
          "base_uri": "https://localhost:8080/"
        },
        "id": "HJreL0z6TLnI",
        "outputId": "e4a3e6df-8ed0-4dbe-fc5e-c0c108b2d021"
      },
      "execution_count": null,
      "outputs": [
        {
          "output_type": "stream",
          "name": "stdout",
          "text": [
            "distance_matrix.csv.zip\n",
            "foo.atsp\n",
            "foo.foo.tour\n",
            "LKH\n",
            "LKH-2.0.9\n",
            "LKH-2.0.9.tgz\n",
            "par0.par\n",
            "par1.par\n",
            "parfoo.par\n",
            "permutations.csv\n",
            "sample_data\n",
            "sample_submission.csv\n",
            "submission.csv\n",
            "wildcards.csv.zip\n"
          ]
        }
      ]
    },
    {
      "cell_type": "code",
      "source": [
        "%%bash\n",
        "rm -r LKH-2.0.9"
      ],
      "metadata": {
        "id": "aUyg7Zm9Tqjy"
      },
      "execution_count": null,
      "outputs": []
    },
    {
      "cell_type": "code",
      "source": [
        "%%bash\n",
        "ls"
      ],
      "metadata": {
        "colab": {
          "base_uri": "https://localhost:8080/"
        },
        "id": "1p4xoGEoUXDR",
        "outputId": "27d57e05-8a03-43ee-8cf7-bd023ee54141"
      },
      "execution_count": null,
      "outputs": [
        {
          "output_type": "stream",
          "name": "stdout",
          "text": [
            "distance_matrix.csv.zip\n",
            "foo.atsp\n",
            "foo.foo.tour\n",
            "LKH\n",
            "LKH-2.0.9.tgz\n",
            "par0.par\n",
            "par1.par\n",
            "parfoo.par\n",
            "permutations.csv\n",
            "sample_data\n",
            "sample_submission.csv\n",
            "submission.csv\n",
            "wildcards.csv.zip\n"
          ]
        }
      ]
    },
    {
      "cell_type": "code",
      "source": [
        "def write_parameters(parameters, filename):\n",
        "    # From https://www.kaggle.com/jsaguiar/lkh-solver\n",
        "    with open(filename, 'w') as f:\n",
        "        for param, value in parameters:\n",
        "            f.write(\"{} = {}\\n\".format(param, value))\n",
        "    print(\"Parameters saved as\", filename)\n",
        "\n",
        "parameters0 = [\n",
        "    (\"PROBLEM_FILE\", \"br17.atsp\"),\n",
        "    (\"TOUR_FILE\", \"1.br17.tour\"),\n",
        "    ('RUNS',1)\n",
        "]\n",
        "write_parameters(parameters0, \"par0.par\")"
      ],
      "metadata": {
        "colab": {
          "base_uri": "https://localhost:8080/"
        },
        "id": "FaVaWzy1UdBM",
        "outputId": "d4b839f3-e7ff-461e-83fa-30550dbf978f"
      },
      "execution_count": null,
      "outputs": [
        {
          "output_type": "stream",
          "name": "stdout",
          "text": [
            "Parameters saved as par0.par\n"
          ]
        }
      ]
    },
    {
      "cell_type": "code",
      "source": [
        "%%bash\n",
        "./LKH par0.par"
      ],
      "metadata": {
        "colab": {
          "base_uri": "https://localhost:8080/"
        },
        "id": "BVlERNUwf96o",
        "outputId": "4f39ba5c-5d5f-47b7-d9c3-df47b3d8ec85"
      },
      "execution_count": null,
      "outputs": [
        {
          "output_type": "stream",
          "name": "stdout",
          "text": [
            "PARAMETER_FILE = par0.par\n"
          ]
        },
        {
          "output_type": "stream",
          "name": "stderr",
          "text": [
            "\n",
            "*** Error ***\n",
            "Cannot open PROBLEM_FILE: \"br17.atsp\"\n"
          ]
        }
      ]
    },
    {
      "cell_type": "code",
      "source": [
        "def write_parameters(parameters, filename):\n",
        "    # From https://www.kaggle.com/jsaguiar/lkh-solver\n",
        "    with open(filename, 'w') as f:\n",
        "        for param, value in parameters:\n",
        "            f.write(\"{} = {}\\n\".format(param, value))\n",
        "    print(\"Parameters saved as\", filename)\n",
        "\n",
        "parameters0 = [\n",
        "    (\"PROBLEM_FILE\", \"ft53.atsp\"),\n",
        "    (\"TOUR_FILE\", \"1.ft53.tour\"),\n",
        "    ('RUNS',1)\n",
        "]\n",
        "write_parameters(parameters0, \"par1.par\")"
      ],
      "metadata": {
        "colab": {
          "base_uri": "https://localhost:8080/"
        },
        "id": "X6_nowCggD5c",
        "outputId": "1168db00-fa32-46ca-f8f0-04ed4e8c3b10"
      },
      "execution_count": null,
      "outputs": [
        {
          "output_type": "stream",
          "name": "stdout",
          "text": [
            "Parameters saved as par1.par\n"
          ]
        }
      ]
    },
    {
      "cell_type": "code",
      "source": [
        "%%bash\n",
        "./LKH par1.par"
      ],
      "metadata": {
        "colab": {
          "base_uri": "https://localhost:8080/"
        },
        "id": "mubQJHN1lA2c",
        "outputId": "420d2bc5-e325-4748-e0b7-e5e1e4cd1d93"
      },
      "execution_count": null,
      "outputs": [
        {
          "output_type": "stream",
          "name": "stdout",
          "text": [
            "PARAMETER_FILE = par1.par\n"
          ]
        },
        {
          "output_type": "stream",
          "name": "stderr",
          "text": [
            "\n",
            "*** Error ***\n",
            "Cannot open PROBLEM_FILE: \"ft53.atsp\"\n"
          ]
        }
      ]
    },
    {
      "cell_type": "code",
      "source": [
        "from google.colab import files\n",
        "uploaded = files.upload()"
      ],
      "metadata": {
        "colab": {
          "resources": {
            "http://localhost:8080/nbextensions/google.colab/files.js": {
              "data": "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",
              "ok": true,
              "headers": [
                [
                  "content-type",
                  "application/javascript"
                ]
              ],
              "status": 200,
              "status_text": ""
            }
          },
          "base_uri": "https://localhost:8080/",
          "height": 360
        },
        "id": "ZQiL4FP30NQo",
        "outputId": "84625809-a55b-4b75-d462-608d116b2288"
      },
      "execution_count": null,
      "outputs": [
        {
          "data": {
            "text/html": [
              "\n",
              "     <input type=\"file\" id=\"files-67d67f19-3dd2-49de-9f65-c1f7d353f55f\" name=\"files[]\" multiple disabled\n",
              "        style=\"border:none\" />\n",
              "     <output id=\"result-67d67f19-3dd2-49de-9f65-c1f7d353f55f\">\n",
              "      Upload widget is only available when the cell has been executed in the\n",
              "      current browser session. Please rerun this cell to enable.\n",
              "      </output>\n",
              "      <script src=\"/nbextensions/google.colab/files.js\"></script> "
            ],
            "text/plain": [
              "<IPython.core.display.HTML object>"
            ]
          },
          "metadata": {},
          "output_type": "display_data"
        },
        {
          "output_type": "error",
          "ename": "KeyboardInterrupt",
          "evalue": "ignored",
          "traceback": [
            "\u001b[0;31m---------------------------------------------------------------------------\u001b[0m",
            "\u001b[0;31mKeyboardInterrupt\u001b[0m                         Traceback (most recent call last)",
            "\u001b[0;32m<ipython-input-169-21dc3c638f66>\u001b[0m in \u001b[0;36m<module>\u001b[0;34m()\u001b[0m\n\u001b[1;32m      1\u001b[0m \u001b[0;32mfrom\u001b[0m \u001b[0mgoogle\u001b[0m\u001b[0;34m.\u001b[0m\u001b[0mcolab\u001b[0m \u001b[0;32mimport\u001b[0m \u001b[0mfiles\u001b[0m\u001b[0;34m\u001b[0m\u001b[0;34m\u001b[0m\u001b[0m\n\u001b[0;32m----> 2\u001b[0;31m \u001b[0muploaded\u001b[0m \u001b[0;34m=\u001b[0m \u001b[0mfiles\u001b[0m\u001b[0;34m.\u001b[0m\u001b[0mupload\u001b[0m\u001b[0;34m(\u001b[0m\u001b[0;34m)\u001b[0m\u001b[0;34m\u001b[0m\u001b[0;34m\u001b[0m\u001b[0m\n\u001b[0m",
            "\u001b[0;32m/usr/local/lib/python3.7/dist-packages/google/colab/files.py\u001b[0m in \u001b[0;36mupload\u001b[0;34m()\u001b[0m\n\u001b[1;32m     61\u001b[0m   result = _output.eval_js(\n\u001b[1;32m     62\u001b[0m       'google.colab._files._uploadFiles(\"{input_id}\", \"{output_id}\")'.format(\n\u001b[0;32m---> 63\u001b[0;31m           input_id=input_id, output_id=output_id))\n\u001b[0m\u001b[1;32m     64\u001b[0m   \u001b[0mfiles\u001b[0m \u001b[0;34m=\u001b[0m \u001b[0m_collections\u001b[0m\u001b[0;34m.\u001b[0m\u001b[0mdefaultdict\u001b[0m\u001b[0;34m(\u001b[0m\u001b[0m_six\u001b[0m\u001b[0;34m.\u001b[0m\u001b[0mbinary_type\u001b[0m\u001b[0;34m)\u001b[0m\u001b[0;34m\u001b[0m\u001b[0;34m\u001b[0m\u001b[0m\n\u001b[1;32m     65\u001b[0m   \u001b[0;31m# Mapping from original filename to filename as saved locally.\u001b[0m\u001b[0;34m\u001b[0m\u001b[0;34m\u001b[0m\u001b[0;34m\u001b[0m\u001b[0m\n",
            "\u001b[0;32m/usr/local/lib/python3.7/dist-packages/google/colab/output/_js.py\u001b[0m in \u001b[0;36meval_js\u001b[0;34m(script, ignore_result, timeout_sec)\u001b[0m\n\u001b[1;32m     38\u001b[0m   \u001b[0;32mif\u001b[0m \u001b[0mignore_result\u001b[0m\u001b[0;34m:\u001b[0m\u001b[0;34m\u001b[0m\u001b[0;34m\u001b[0m\u001b[0m\n\u001b[1;32m     39\u001b[0m     \u001b[0;32mreturn\u001b[0m\u001b[0;34m\u001b[0m\u001b[0;34m\u001b[0m\u001b[0m\n\u001b[0;32m---> 40\u001b[0;31m   \u001b[0;32mreturn\u001b[0m \u001b[0m_message\u001b[0m\u001b[0;34m.\u001b[0m\u001b[0mread_reply_from_input\u001b[0m\u001b[0;34m(\u001b[0m\u001b[0mrequest_id\u001b[0m\u001b[0;34m,\u001b[0m \u001b[0mtimeout_sec\u001b[0m\u001b[0;34m)\u001b[0m\u001b[0;34m\u001b[0m\u001b[0;34m\u001b[0m\u001b[0m\n\u001b[0m\u001b[1;32m     41\u001b[0m \u001b[0;34m\u001b[0m\u001b[0m\n\u001b[1;32m     42\u001b[0m \u001b[0;34m\u001b[0m\u001b[0m\n",
            "\u001b[0;32m/usr/local/lib/python3.7/dist-packages/google/colab/_message.py\u001b[0m in \u001b[0;36mread_reply_from_input\u001b[0;34m(message_id, timeout_sec)\u001b[0m\n\u001b[1;32m     99\u001b[0m     \u001b[0mreply\u001b[0m \u001b[0;34m=\u001b[0m \u001b[0m_read_next_input_message\u001b[0m\u001b[0;34m(\u001b[0m\u001b[0;34m)\u001b[0m\u001b[0;34m\u001b[0m\u001b[0;34m\u001b[0m\u001b[0m\n\u001b[1;32m    100\u001b[0m     \u001b[0;32mif\u001b[0m \u001b[0mreply\u001b[0m \u001b[0;34m==\u001b[0m \u001b[0m_NOT_READY\u001b[0m \u001b[0;32mor\u001b[0m \u001b[0;32mnot\u001b[0m \u001b[0misinstance\u001b[0m\u001b[0;34m(\u001b[0m\u001b[0mreply\u001b[0m\u001b[0;34m,\u001b[0m \u001b[0mdict\u001b[0m\u001b[0;34m)\u001b[0m\u001b[0;34m:\u001b[0m\u001b[0;34m\u001b[0m\u001b[0;34m\u001b[0m\u001b[0m\n\u001b[0;32m--> 101\u001b[0;31m       \u001b[0mtime\u001b[0m\u001b[0;34m.\u001b[0m\u001b[0msleep\u001b[0m\u001b[0;34m(\u001b[0m\u001b[0;36m0.025\u001b[0m\u001b[0;34m)\u001b[0m\u001b[0;34m\u001b[0m\u001b[0;34m\u001b[0m\u001b[0m\n\u001b[0m\u001b[1;32m    102\u001b[0m       \u001b[0;32mcontinue\u001b[0m\u001b[0;34m\u001b[0m\u001b[0;34m\u001b[0m\u001b[0m\n\u001b[1;32m    103\u001b[0m     if (reply.get('type') == 'colab_reply' and\n",
            "\u001b[0;31mKeyboardInterrupt\u001b[0m: "
          ]
        }
      ]
    },
    {
      "cell_type": "code",
      "source": [
        "!mkdir -p ~/.kaggle\n",
        "!mv kaggle.json ~/.kaggle/\n",
        "!pip install kaggle\n",
        "!chmod 600 /root/.kaggle/kaggle.json\n"
      ],
      "metadata": {
        "id": "fQpGkJkd06HH"
      },
      "execution_count": null,
      "outputs": []
    },
    {
      "cell_type": "code",
      "source": [
        "%%bash\n",
        "kaggle competitions download -c santa-2021"
      ],
      "metadata": {
        "id": "Z4bwICI60Hhl"
      },
      "execution_count": null,
      "outputs": []
    },
    {
      "cell_type": "code",
      "source": [
        "import itertools\n",
        "import pandas as pd\n",
        "import numpy as np"
      ],
      "metadata": {
        "id": "yWfYuY-UlKjB"
      },
      "execution_count": null,
      "outputs": []
    },
    {
      "cell_type": "code",
      "source": [
        "mandatory = ['54'+''.join(x) for x in itertools.permutations(['1','2','3','6','7'], 5)]\n",
        "\n",
        "non_mandatory = []\n",
        "all_permu = [''.join(x) for x in itertools.permutations(['1','2','3','4','5','6','7'], 7)]\n",
        "depo = [\"depo\"]\n"
      ],
      "metadata": {
        "id": "bE7Avul_UYlp"
      },
      "execution_count": null,
      "outputs": []
    },
    {
      "cell_type": "code",
      "source": [
        "all_permu = depo + all_permu + mandatory + mandatory"
      ],
      "metadata": {
        "id": "jKqnZyZZUYNs"
      },
      "execution_count": null,
      "outputs": []
    },
    {
      "cell_type": "code",
      "source": [
        "len(all_permu)"
      ],
      "metadata": {
        "id": "qYTc8k7uUnGl"
      },
      "execution_count": null,
      "outputs": []
    },
    {
      "cell_type": "code",
      "source": [
        "dist = np.empty((len(all_permu), len(all_permu)), dtype=int)"
      ],
      "metadata": {
        "id": "14d5ivCoUr0b"
      },
      "execution_count": null,
      "outputs": []
    },
    {
      "cell_type": "code",
      "source": [
        "dist.shape"
      ],
      "metadata": {
        "id": "SwdX0wtGJadq"
      },
      "execution_count": null,
      "outputs": []
    },
    {
      "cell_type": "code",
      "source": [
        "for k, permu in enumerate(all_permu):\n",
        "    for l, permu2 in enumerate(all_permu):\n",
        "        if permu == permu2:\n",
        "            continue\n",
        "        distance = 7\n",
        "        for i in range (1,7):\n",
        "            if permu2[:i] == permu[-i:]:\n",
        "                distance = 7 - i\n",
        "        if k == 'depo':\n",
        "          distance = 7\n",
        "        if l == 'depo':\n",
        "          distance = 0\n",
        "        dist[k,l] = distance"
      ],
      "metadata": {
        "id": "TH_cYeJcVeCm"
      },
      "execution_count": null,
      "outputs": []
    },
    {
      "cell_type": "code",
      "source": [
        "dist"
      ],
      "metadata": {
        "colab": {
          "base_uri": "https://localhost:8080/"
        },
        "id": "OO7ePq2Ozz7J",
        "outputId": "cded37a4-f71f-4cde-8be1-06b113161a1c"
      },
      "execution_count": null,
      "outputs": [
        {
          "output_type": "execute_result",
          "data": {
            "text/plain": [
              "array([[0, 7, 7, ..., 7, 7, 7],\n",
              "       [7, 0, 7, ..., 7, 7, 7],\n",
              "       [7, 7, 0, ..., 7, 7, 7],\n",
              "       ...,\n",
              "       [7, 6, 6, ..., 0, 7, 7],\n",
              "       [7, 5, 5, ..., 7, 0, 7],\n",
              "       [7, 6, 6, ..., 7, 7, 0]])"
            ]
          },
          "metadata": {},
          "execution_count": 171
        }
      ]
    },
    {
      "cell_type": "code",
      "source": [
        "from dataclasses import dataclass\n",
        "!pip install tsplib95\n",
        "import numpy as np\n",
        "import tsplib95\n",
        "\n",
        "\n",
        "@dataclass\n",
        "class Problem:\n",
        "\n",
        "    # The underlying tsplib95 problem instance\n",
        "    _problem: object\n",
        "\n",
        "    @classmethod\n",
        "    def from_tsp_file(cls, fname):\n",
        "        problem = tsplib95.load(fname)\n",
        "        return cls(_problem=problem)\n",
        "\n",
        "    @classmethod\n",
        "    def from_tsp_problem(cls, problem):\n",
        "        return cls(_problem=problem)\n",
        "\n",
        "    @classmethod\n",
        "    def from_coordinates(cls, xs, ys, norm=\"EUC_2D\"):\n",
        "        coords = {i: (x, y) for (i, (x, y)) in enumerate(zip(xs, ys))}\n",
        "        problem = tsplib95.models.StandardProblem(\n",
        "            dimension=len(coords), edge_weight_type=norm, node_coords=coords,\n",
        "        )\n",
        "        return cls(_problem=problem)\n",
        "\n",
        "    @classmethod\n",
        "    def from_matrix(cls, matrix):\n",
        "        # Assemble TSP problem from distance matrix\n",
        "        problem = tsplib95.models.StandardProblem(\n",
        "            type=\"ATSP\",\n",
        "            dimension=matrix.shape[0],\n",
        "            edge_weights=matrix.tolist(),\n",
        "            edge_weight_type=\"EXPLICIT\",\n",
        "            edge_weight_format=\"FULL_MATRIX\"\n",
        "        )\n",
        "        return cls(_problem=problem)\n",
        "\n",
        "    @property\n",
        "    def nodes(self):\n",
        "        if self._problem is None:\n",
        "            return []\n",
        "        return list(self._problem.get_nodes())\n",
        "\n",
        "    def to_tsp(self, fname):\n",
        "        with open(fname, \"wt\") as fp:\n",
        "            self._problem.write(fp)"
      ],
      "metadata": {
        "id": "QnTgtqEOBfBX",
        "colab": {
          "base_uri": "https://localhost:8080/"
        },
        "outputId": "cd714fb4-c5f4-4736-be63-3f7b4b52bda4"
      },
      "execution_count": null,
      "outputs": [
        {
          "output_type": "stream",
          "name": "stdout",
          "text": [
            "Requirement already satisfied: tsplib95 in /usr/local/lib/python3.7/dist-packages (0.7.1)\n",
            "Requirement already satisfied: tabulate~=0.8.7 in /usr/local/lib/python3.7/dist-packages (from tsplib95) (0.8.9)\n",
            "Requirement already satisfied: Click>=6.0 in /usr/local/lib/python3.7/dist-packages (from tsplib95) (7.1.2)\n",
            "Requirement already satisfied: Deprecated~=1.2.9 in /usr/local/lib/python3.7/dist-packages (from tsplib95) (1.2.13)\n",
            "Requirement already satisfied: networkx~=2.1 in /usr/local/lib/python3.7/dist-packages (from tsplib95) (2.6.3)\n",
            "Requirement already satisfied: wrapt<2,>=1.10 in /usr/local/lib/python3.7/dist-packages (from Deprecated~=1.2.9->tsplib95) (1.13.3)\n"
          ]
        }
      ]
    },
    {
      "cell_type": "code",
      "source": [
        "problem = Problem.from_matrix(dist)\n",
        "problem.to_tsp(\"foo.atsp\")"
      ],
      "metadata": {
        "id": "jkZKnhzJYxbv"
      },
      "execution_count": null,
      "outputs": []
    },
    {
      "cell_type": "code",
      "source": [
        "parametersfoo = [\n",
        "    (\"PROBLEM_FILE\", \"foo.atsp\"),\n",
        "    (\"TOUR_FILE\", \"foo.foo.tour\"),\n",
        "    (\"MOVE_TYPE\", 5),\n",
        "    (\"PATCHING_C\", 3),\n",
        "    (\"PATCHING_A\", 2),\n",
        "    ('RUNS',1)\n",
        "]\n",
        "write_parameters(parametersfoo, \"parfoo.par\")"
      ],
      "metadata": {
        "colab": {
          "base_uri": "https://localhost:8080/"
        },
        "id": "YYI_8-ulbWd1",
        "outputId": "5c69bc20-5137-4231-97f7-017aa3523f8c"
      },
      "execution_count": null,
      "outputs": [
        {
          "output_type": "stream",
          "name": "stdout",
          "text": [
            "Parameters saved as parfoo.par\n"
          ]
        }
      ]
    },
    {
      "cell_type": "code",
      "source": [
        "%%bash\n",
        "./LKH parfoo.par"
      ],
      "metadata": {
        "colab": {
          "base_uri": "https://localhost:8080/"
        },
        "id": "tXbrJpn_eEJx",
        "outputId": "3185cf0a-8ab5-40c8-d122-e4d8e213c29a"
      },
      "execution_count": null,
      "outputs": [
        {
          "output_type": "stream",
          "name": "stdout",
          "text": [
            "PARAMETER_FILE = parfoo.par\n",
            "Reading PROBLEM_FILE: \"foo.atsp\" ... done\n",
            "ASCENT_CANDIDATES = 50\n",
            "BACKBONE_TRIALS = 0\n",
            "BACKTRACKING = NO\n",
            "# CANDIDATE_FILE =\n",
            "CANDIDATE_SET_TYPE = ALPHA\n",
            "# EDGE_FILE =\n",
            "EXCESS = 9.4679e-05\n",
            "EXTRA_CANDIDATES = 0 \n",
            "EXTRA_CANDIDATE_SET_TYPE = QUADRANT\n",
            "GAIN23 = YES\n",
            "GAIN_CRITERION = YES\n",
            "INITIAL_PERIOD = 5281\n",
            "INITIAL_STEP_SIZE = 1\n",
            "INITIAL_TOUR_ALGORITHM = WALK\n",
            "# INITIAL_TOUR_FILE = \n",
            "INITIAL_TOUR_FRACTION = 1.000\n",
            "# INPUT_TOUR_FILE = \n",
            "KICK_TYPE = 0\n",
            "KICKS = 1\n",
            "# MAX_BREADTH =\n",
            "MAX_CANDIDATES = 5 \n",
            "MAX_SWAPS = 10562\n",
            "MAX_TRIALS = 10562\n",
            "# MERGE_TOUR_FILE =\n",
            "MOVE_TYPE = 5\n",
            "NONSEQUENTIAL_MOVE_TYPE = 9\n",
            "# OPTIMUM =\n",
            "# OUTPUT_TOUR_FILE = \n",
            "PATCHING_A = 2 \n",
            "PATCHING_C = 3 \n",
            "# PI_FILE = \n",
            "POPMUSIC_INITIAL_TOUR = NO\n",
            "POPMUSIC_MAX_NEIGHBORS = 5\n",
            "POPMUSIC_SAMPLE_SIZE = 10\n",
            "POPMUSIC_SOLUTIONS = 50\n",
            "POPMUSIC_TRIALS = 1\n",
            "# POPULATION_SIZE = 0\n",
            "PRECISION = 100\n",
            "PROBLEM_FILE = foo.atsp\n",
            "RECOMBINATION = IPT\n",
            "RESTRICTED_SEARCH = YES\n",
            "RUNS = 1\n",
            "SEED = 1\n",
            "STOP_AT_OPTIMUM = YES\n",
            "SUBGRADIENT = YES\n",
            "# SUBPROBLEM_SIZE =\n",
            "# SUBPROBLEM_TOUR_FILE = \n",
            "SUBSEQUENT_MOVE_TYPE = 5\n",
            "SUBSEQUENT_PATCHING = YES\n",
            "# TIME_LIMIT =\n",
            "TOUR_FILE = foo.foo.tour\n",
            "TRACE_LEVEL = 1\n",
            "\n",
            "Lower bound = 5772.0, Ascent time = 187.18 sec.\n",
            "Cand.min = 4, Cand.avg = 4.1, Cand.max = 5\n",
            "Edges.fixed = 5281 [Cost = 0]\n",
            "Preprocessing time = 193.66 sec.\n",
            "* 1: Cost = 6176, Time = 0.09 sec.\n",
            "* 2: Cost = 6155, Time = 0.12 sec.\n",
            "* 3: Cost = 6154, Time = 0.16 sec.\n",
            "* 4: Cost = 6113, Time = 0.19 sec.\n",
            "* 6: Cost = 6112, Time = 0.27 sec.\n",
            "* 8: Cost = 6106, Time = 0.34 sec.\n",
            "* 9: Cost = 6099, Time = 0.37 sec.\n",
            "* 11: Cost = 6087, Time = 0.41 sec.\n",
            "* 16: Cost = 6076, Time = 0.53 sec.\n",
            "* 22: Cost = 6069, Time = 0.66 sec.\n",
            "* 25: Cost = 6067, Time = 0.71 sec.\n",
            "* 27: Cost = 6061, Time = 0.75 sec.\n",
            "* 33: Cost = 6053, Time = 0.90 sec.\n",
            "* 44: Cost = 6049, Time = 1.20 sec.\n",
            "* 46: Cost = 6046, Time = 1.25 sec.\n",
            "* 48: Cost = 6045, Time = 1.28 sec.\n",
            "* 49: Cost = 6044, Time = 1.30 sec.\n",
            "* 62: Cost = 6043, Time = 1.49 sec.\n",
            "* 65: Cost = 6041, Time = 1.55 sec.\n",
            "* 117: Cost = 6039, Time = 2.90 sec.\n",
            "* 128: Cost = 6038, Time = 3.07 sec.\n",
            "* 140: Cost = 6037, Time = 3.33 sec.\n",
            "* 142: Cost = 6036, Time = 3.36 sec.\n",
            "* 184: Cost = 6033, Time = 4.05 sec.\n",
            "* 189: Cost = 6032, Time = 4.13 sec.\n",
            "* 190: Cost = 6030, Time = 4.15 sec.\n",
            "* 197: Cost = 6026, Time = 4.28 sec.\n",
            "* 203: Cost = 6025, Time = 4.39 sec.\n",
            "* 204: Cost = 6024, Time = 4.40 sec.\n",
            "* 209: Cost = 6021, Time = 4.50 sec.\n",
            "* 217: Cost = 6018, Time = 4.72 sec.\n",
            "* 228: Cost = 6016, Time = 5.02 sec.\n",
            "* 249: Cost = 6013, Time = 5.49 sec.\n",
            "* 252: Cost = 6012, Time = 5.55 sec.\n",
            "* 264: Cost = 6009, Time = 5.78 sec.\n",
            "* 308: Cost = 6008, Time = 6.52 sec.\n",
            "* 569: Cost = 6007, Time = 9.89 sec.\n",
            "* 813: Cost = 6006, Time = 13.24 sec.\n",
            "* 874: Cost = 6004, Time = 14.36 sec.\n",
            "* 878: Cost = 6003, Time = 14.46 sec.\n",
            "* 997: Cost = 6001, Time = 16.32 sec.\n",
            "* 4916: Cost = 6000, Time = 81.60 sec.\n",
            "* 5134: Cost = 5998, Time = 85.23 sec.\n",
            "* 6160: Cost = 5997, Time = 102.10 sec.\n",
            "* 6294: Cost = 5996, Time = 104.62 sec.\n",
            "* 6924: Cost = 5995, Time = 114.69 sec.\n",
            "* 7263: Cost = 5994, Time = 119.64 sec.\n",
            "* 7857: Cost = 5993, Time = 128.92 sec.\n",
            "* 8093: Cost = 5992, Time = 132.01 sec.\n",
            "* 9522: Cost = 5991, Time = 154.10 sec.\n",
            "Writing TOUR_FILE: \"foo.foo.tour\" ... done\n",
            "Run 1: Cost = 5991, Time = 172.17 sec. \n",
            "\n",
            "Successes/Runs = 0/1\n",
            "Cost.min = 5991, Cost.avg = 5991.00, Cost.max = 5991\n",
            "Gap.min = 0.0000%, Gap.avg = 0.0000%, Gap.max = 0.0000%\n",
            "Trials.min = 10562, Trials.avg = 10562.0, Trials.max = 10562\n",
            "Time.min = 172.17 sec., Time.avg = 172.17 sec., Time.max = 172.17 sec.\n",
            "Time.total = 366.26 sec.\n"
          ]
        }
      ]
    },
    {
      "cell_type": "code",
      "source": [
        "def read_tsp_tour(fname):\n",
        "    has_tour = False\n",
        "    tour = []\n",
        "    with open(fname) as fp:\n",
        "        for line in fp:\n",
        "            if line.startswith(\"TOUR_SECTION\"):\n",
        "                has_tour = True\n",
        "            elif line.startswith(\"EOF\"):\n",
        "                break\n",
        "            else:\n",
        "                if has_tour:\n",
        "                    tour.extend(int(node) for node in line.split())\n",
        "    if not tour:\n",
        "        raise RuntimeError(\"File {} has no valid TOUR_SECTION\".format(fname))\n",
        "    if tour[-1] == -1:\n",
        "        tour.pop()\n",
        "    return np.array(tour)"
      ],
      "metadata": {
        "id": "TbEN1TVYekqV"
      },
      "execution_count": null,
      "outputs": []
    },
    {
      "cell_type": "code",
      "source": [
        "tour = read_tsp_tour(\"foo.foo.tour\")"
      ],
      "metadata": {
        "id": "AIkaL3oMpLm9"
      },
      "execution_count": null,
      "outputs": []
    },
    {
      "cell_type": "code",
      "source": [
        "tour"
      ],
      "metadata": {
        "colab": {
          "base_uri": "https://localhost:8080/"
        },
        "id": "2jwHY1U_pUKf",
        "outputId": "0d967734-eaa0-43dd-e2e2-d2fe16fbb5eb"
      },
      "execution_count": null,
      "outputs": [
        {
          "output_type": "execute_result",
          "data": {
            "text/plain": [
              "array([   1, 4438,  560, ...,  908, 1901, 3498])"
            ]
          },
          "metadata": {},
          "execution_count": 178
        }
      ]
    },
    {
      "cell_type": "code",
      "source": [
        "len(tour)"
      ],
      "metadata": {
        "colab": {
          "base_uri": "https://localhost:8080/"
        },
        "id": "Mm3cFPSpP4bp",
        "outputId": "517507a9-971b-4326-b933-a71390df836a"
      },
      "execution_count": null,
      "outputs": [
        {
          "output_type": "execute_result",
          "data": {
            "text/plain": [
              "5281"
            ]
          },
          "metadata": {},
          "execution_count": 179
        }
      ]
    },
    {
      "cell_type": "code",
      "source": [
        "def get_string(my_route):\n",
        "    string = ''\n",
        "    for i, item in enumerate(my_route):\n",
        "      if i == 0:\n",
        "          string2 = all_permu[item-1]\n",
        "      else:\n",
        "          item_before = tour[i-1]\n",
        "          dist_range = dist[item_before-1, item-1]\n",
        "          add_string = all_permu[item-1][-dist_range:]\n",
        "          # if dist_range == 6:\n",
        "          #   print(\"i number is {}\".format(i))\n",
        "          #   print(\"Before word is {}\".format(item_before))\n",
        "          #   print(\"This word is {}\".format(all_permu[item-1]))\n",
        "          if i == 1500:\n",
        "            add_string = all_permu[item-1]\n",
        "            string += '8'\n",
        "          if i == 3800:\n",
        "            add_string = all_permu[item-1]\n",
        "            string += '8'\n",
        "          # if i == 1800:\n",
        "          #   add_string = all_permu[item-1]\n",
        "          #   string += '8'\n",
        "          # if i == 3820:\n",
        "          #   add_string = all_permu[item-1]\n",
        "          #   string += '8'\n",
        "          string += add_string\n",
        "    print('length', len(string))\n",
        "    return string\n",
        "string = get_string(tour)"
      ],
      "metadata": {
        "colab": {
          "base_uri": "https://localhost:8080/"
        },
        "id": "KYO1TpL72hPO",
        "outputId": "09231a21-d5ed-4460-fbf7-04f0b2ae4f94"
      },
      "execution_count": null,
      "outputs": [
        {
          "output_type": "stream",
          "name": "stdout",
          "text": [
            "length 7672\n"
          ]
        }
      ]
    },
    {
      "cell_type": "code",
      "source": [
        "len(string)"
      ],
      "metadata": {
        "colab": {
          "base_uri": "https://localhost:8080/"
        },
        "id": "_wz_VpK1AsaT",
        "outputId": "89f3eff9-f329-4092-b502-97d69beb4481"
      },
      "execution_count": null,
      "outputs": [
        {
          "output_type": "execute_result",
          "data": {
            "text/plain": [
              "7672"
            ]
          },
          "metadata": {},
          "execution_count": 181
        }
      ]
    },
    {
      "cell_type": "code",
      "source": [
        "string"
      ],
      "metadata": {
        "id": "cxemeWbRBBjI",
        "colab": {
          "base_uri": "https://localhost:8080/",
          "height": 140
        },
        "outputId": "5202f743-5774-4d5a-abb3-7f4bd6919e82"
      },
      "execution_count": null,
      "outputs": [
        {
          "output_type": "execute_result",
          "data": {
            "application/vnd.google.colaboratory.intrinsic+json": {
              "type": "string"
            },
            "text/plain": [
              "'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'"
            ]
          },
          "metadata": {},
          "execution_count": 182
        }
      ]
    },
    {
      "cell_type": "code",
      "source": [
        "l = string.split('8')\n",
        "print(len(l))\n",
        "print(len(l[0]))\n",
        "print(len(l[1]))\n",
        "print(len(l[2]))"
      ],
      "metadata": {
        "colab": {
          "base_uri": "https://localhost:8080/"
        },
        "id": "N4NdNBOh5w9f",
        "outputId": "066a3a59-d0b4-4d3b-fa21-d99330a9b86b"
      },
      "execution_count": null,
      "outputs": [
        {
          "output_type": "stream",
          "name": "stdout",
          "text": [
            "3\n",
            "2242\n",
            "3363\n",
            "2065\n"
          ]
        }
      ]
    },
    {
      "cell_type": "code",
      "source": [
        "answer = [l[0], l[1], l[2]]\n",
        "words = [a.translate(str.maketrans(\"1234567\", \"🦌🧝🎄🤶🎅🎁🎀\")) for a in answer]\n",
        "\n",
        "submission = pd.Series(words, name='schedule')\n",
        "submission.to_csv('submission.csv', index=False)\n",
        "\n",
        "display(submission)\n",
        "display(submission.apply(len).rename(\"Lengths\"))"
      ],
      "metadata": {
        "colab": {
          "base_uri": "https://localhost:8080/",
          "height": 156
        },
        "id": "BTxxp9Gc6Q8o",
        "outputId": "283b14b3-fa0b-46fc-e82e-36b09fb88727"
      },
      "execution_count": null,
      "outputs": [
        {
          "output_type": "display_data",
          "data": {
            "text/plain": [
              "0    🎀🦌🎁🎅🎄🧝🤶🎀🦌🎁🎅🎄🧝🎀🦌🤶🎁🎅🎄🧝🎀🦌🎁🤶🎅🎄🧝🎀🦌🎁🎄🎅🤶🧝🎀🦌🎁🎄🎅🤶🧝🎀🦌🎁🎄🎅...\n",
              "1    🎅🤶🎁🎄🧝🦌🎀🎅🤶🎁🎄🧝🎀🦌🎅🤶🎁🎄🧝🎀🦌🎅🤶🎁🎄🧝🎀🦌🎅🤶🎁🎄🧝🎀🎅🦌🤶🎁🎄🧝🎀🎅🤶🦌🎁🎄...\n",
              "2    🧝🎁🤶🦌🎀🎅🎄🧝🤶🎁🦌🎀🎅🎄🧝🤶🦌🎁🎀🎅🎄🧝🤶🦌🎀🎁🎅🎄🧝🤶🦌🎀🎅🎁🧝🎄🤶🦌🎀🎅🎁🧝🤶🎄🦌🎀...\n",
              "Name: schedule, dtype: object"
            ]
          },
          "metadata": {}
        },
        {
          "output_type": "display_data",
          "data": {
            "text/plain": [
              "0    2242\n",
              "1    3363\n",
              "2    2065\n",
              "Name: Lengths, dtype: int64"
            ]
          },
          "metadata": {}
        }
      ]
    },
    {
      "cell_type": "code",
      "source": [
        "len(words)"
      ],
      "metadata": {
        "colab": {
          "base_uri": "https://localhost:8080/"
        },
        "id": "kP29x5XhAChF",
        "outputId": "7f6e1236-f0ec-4fcf-c991-0de940dd3e6f"
      },
      "execution_count": null,
      "outputs": [
        {
          "output_type": "execute_result",
          "data": {
            "text/plain": [
              "3"
            ]
          },
          "metadata": {},
          "execution_count": 185
        }
      ]
    },
    {
      "cell_type": "code",
      "source": [
        "import itertools\n",
        "symbols = [\"🦌\", \"🧝\", \"🎄\", \"🤶\", \"🎅\", \"🎁\", \"🎀\"]\n",
        "all_permu_str = [''.join(i) for i in itertools.permutations(symbols, 7)]\n",
        "missed = []\n",
        "\n",
        "for j in all_permu_str:\n",
        "    if j not in words[0] and j not in words[1] and j not in words[2]:\n",
        "        missed.append(j)"
      ],
      "metadata": {
        "id": "EcSC_4xa-aAv"
      },
      "execution_count": null,
      "outputs": []
    },
    {
      "cell_type": "code",
      "source": [
        "len(missed)"
      ],
      "metadata": {
        "colab": {
          "base_uri": "https://localhost:8080/"
        },
        "id": "V5E9YSPV_mdn",
        "outputId": "b5e06baa-3c3a-4fc4-a5f5-101a9abfa894"
      },
      "execution_count": null,
      "outputs": [
        {
          "output_type": "execute_result",
          "data": {
            "text/plain": [
              "0"
            ]
          },
          "metadata": {},
          "execution_count": 187
        }
      ]
    },
    {
      "cell_type": "code",
      "source": [
        "len(all_permu_str)"
      ],
      "metadata": {
        "colab": {
          "base_uri": "https://localhost:8080/"
        },
        "id": "3IdZghptCDnT",
        "outputId": "b63f99f7-e88c-4b77-e759-319719e48c53"
      },
      "execution_count": null,
      "outputs": [
        {
          "output_type": "execute_result",
          "data": {
            "text/plain": [
              "5040"
            ]
          },
          "metadata": {},
          "execution_count": 188
        }
      ]
    },
    {
      "cell_type": "code",
      "source": [
        "symbols = [\"🦌\", \"🧝\", \"🎄\", \"🎁\", \"🎀\"]\n",
        "man_permu_str = ['🎅🤶'+''.join(i) for i in itertools.permutations(symbols, 5)]\n",
        "missed_1 = []\n",
        "missed_2 = []\n",
        "missed_3 = []\n",
        "for j in man_permu_str:\n",
        "  if j not in words[0]:\n",
        "    missed_1.append(j)\n",
        "  elif j not in words[1]:\n",
        "    missed_2.append(j)\n",
        "  elif j not in words[2]:\n",
        "    missed_3.append(j)"
      ],
      "metadata": {
        "id": "wVzrQzXXATqk"
      },
      "execution_count": null,
      "outputs": []
    },
    {
      "cell_type": "code",
      "source": [
        "print(missed_1)\n",
        "print(\"missed_1 loss is {}\".format(len(missed_1)))\n",
        "print(missed_2)\n",
        "print(\"missed_2 loss is {}\".format(len(missed_2)))\n",
        "print(missed_3)\n",
        "print(\"missed_3 loss is {}\".format(len(missed_3)))"
      ],
      "metadata": {
        "colab": {
          "base_uri": "https://localhost:8080/"
        },
        "id": "8KqxhsacOqIu",
        "outputId": "05cb6675-c34b-474b-db49-5040f3e57ffe"
      },
      "execution_count": null,
      "outputs": [
        {
          "output_type": "stream",
          "name": "stdout",
          "text": [
            "['🎅🤶🦌🧝🎄🎁🎀', '🎅🤶🦌🧝🎄🎀🎁', '🎅🤶🦌🧝🎁🎄🎀', '🎅🤶🦌🧝🎁🎀🎄', '🎅🤶🦌🧝🎀🎄🎁', '🎅🤶🦌🎄🧝🎁🎀', '🎅🤶🦌🎄🧝🎀🎁', '🎅🤶🦌🎄🎁🧝🎀', '🎅🤶🦌🎄🎁🎀🧝', '🎅🤶🦌🎄🎀🧝🎁', '🎅🤶🦌🎁🧝🎄🎀', '🎅🤶🦌🎁🧝🎀🎄', '🎅🤶🦌🎁🎄🧝🎀', '🎅🤶🦌🎁🎄🎀🧝', '🎅🤶🦌🎁🎀🧝🎄', '🎅🤶🦌🎁🎀🎄🧝', '🎅🤶🦌🎀🧝🎄🎁', '🎅🤶🦌🎀🎄🧝🎁', '🎅🤶🧝🦌🎄🎁🎀', '🎅🤶🧝🦌🎄🎀🎁', '🎅🤶🧝🦌🎁🎄🎀', '🎅🤶🧝🦌🎁🎀🎄', '🎅🤶🧝🎄🦌🎁🎀', '🎅🤶🧝🎄🦌🎀🎁', '🎅🤶🧝🎄🎁🦌🎀', '🎅🤶🧝🎄🎁🎀🦌', '🎅🤶🧝🎄🎀🦌🎁', '🎅🤶🧝🎄🎀🎁🦌', '🎅🤶🧝🎀🦌🎄🎁', '🎅🤶🧝🎀🎄🦌🎁', '🎅🤶🧝🎀🎄🎁🦌', '🎅🤶🎄🦌🧝🎁🎀', '🎅🤶🎄🦌🧝🎀🎁', '🎅🤶🎄🦌🎁🧝🎀', '🎅🤶🎄🦌🎁🎀🧝', '🎅🤶🎄🦌🎀🧝🎁', '🎅🤶🎄🧝🦌🎁🎀', '🎅🤶🎄🧝🦌🎀🎁', '🎅🤶🎄🧝🎁🦌🎀', '🎅🤶🎄🧝🎁🎀🦌', '🎅🤶🎄🧝🎀🦌🎁', '🎅🤶🎄🧝🎀🎁🦌', '🎅🤶🎄🎁🦌🧝🎀', '🎅🤶🎄🎁🦌🎀🧝', '🎅🤶🎄🎁🧝🦌🎀', '🎅🤶🎄🎁🧝🎀🦌', '🎅🤶🎄🎁🎀🧝🦌', '🎅🤶🎄🎀🎁🧝🦌', '🎅🤶🎁🦌🧝🎄🎀', '🎅🤶🎁🦌🧝🎀🎄', '🎅🤶🎁🦌🎄🧝🎀', '🎅🤶🎁🦌🎀🧝🎄', '🎅🤶🎁🧝🦌🎄🎀', '🎅🤶🎁🧝🦌🎀🎄', '🎅🤶🎁🧝🎄🦌🎀', '🎅🤶🎁🧝🎄🎀🦌', '🎅🤶🎁🧝🎀🦌🎄', '🎅🤶🎁🧝🎀🎄🦌', '🎅🤶🎁🎄🦌🧝🎀', '🎅🤶🎁🎄🧝🎀🦌', '🎅🤶🎁🎄🎀🧝🦌', '🎅🤶🎁🎀🦌🧝🎄', '🎅🤶🎁🎀🧝🦌🎄', '🎅🤶🎁🎀🧝🎄🦌', '🎅🤶🎁🎀🎄🦌🧝', '🎅🤶🎁🎀🎄🧝🦌', '🎅🤶🎀🦌🧝🎄🎁', '🎅🤶🎀🦌🧝🎁🎄', '🎅🤶🎀🦌🎄🧝🎁', '🎅🤶🎀🦌🎄🎁🧝', '🎅🤶🎀🧝🦌🎄🎁', '🎅🤶🎀🧝🦌🎁🎄', '🎅🤶🎀🧝🎄🦌🎁', '🎅🤶🎀🧝🎄🎁🦌', '🎅🤶🎀🎄🦌🧝🎁', '🎅🤶🎀🎄🦌🎁🧝', '🎅🤶🎀🎄🧝🦌🎁', '🎅🤶🎀🎄🎁🦌🧝', '🎅🤶🎀🎄🎁🧝🦌', '🎅🤶🎀🎁🎄🦌🧝']\n",
            "missed_1 loss is 80\n",
            "['🎅🤶🦌🧝🎀🎁🎄', '🎅🤶🦌🎄🎀🎁🧝', '🎅🤶🦌🎀🧝🎁🎄', '🎅🤶🦌🎀🎄🎁🧝', '🎅🤶🦌🎀🎁🧝🎄', '🎅🤶🦌🎀🎁🎄🧝', '🎅🤶🧝🦌🎀🎄🎁', '🎅🤶🧝🦌🎀🎁🎄', '🎅🤶🧝🎁🦌🎄🎀', '🎅🤶🧝🎁🦌🎀🎄', '🎅🤶🧝🎁🎄🦌🎀', '🎅🤶🧝🎁🎄🎀🦌', '🎅🤶🧝🎁🎀🦌🎄', '🎅🤶🧝🎁🎀🎄🦌', '🎅🤶🧝🎀🦌🎁🎄', '🎅🤶🧝🎀🎁🦌🎄', '🎅🤶🧝🎀🎁🎄🦌', '🎅🤶🎄🦌🎀🎁🧝', '🎅🤶🎄🎁🎀🦌🧝', '🎅🤶🎄🎀🦌🧝🎁', '🎅🤶🎄🎀🦌🎁🧝', '🎅🤶🎄🎀🧝🦌🎁', '🎅🤶🎄🎀🧝🎁🦌', '🎅🤶🎄🎀🎁🦌🧝', '🎅🤶🎁🦌🎄🎀🧝', '🎅🤶🎁🦌🎀🎄🧝', '🎅🤶🎁🎄🦌🎀🧝', '🎅🤶🎁🎄🎀🦌🧝', '🎅🤶🎁🎀🦌🎄🧝', '🎅🤶🎀🦌🎁🧝🎄', '🎅🤶🎀🦌🎁🎄🧝', '🎅🤶🎀🧝🎁🦌🎄', '🎅🤶🎀🧝🎁🎄🦌', '🎅🤶🎀🎄🧝🎁🦌', '🎅🤶🎀🎁🦌🧝🎄', '🎅🤶🎀🎁🦌🎄🧝', '🎅🤶🎀🎁🧝🦌🎄', '🎅🤶🎀🎁🧝🎄🦌', '🎅🤶🎀🎁🎄🧝🦌']\n",
            "missed_2 loss is 39\n",
            "['🎅🤶🎁🎄🧝🦌🎀']\n",
            "missed_3 loss is 1\n"
          ]
        }
      ]
    },
    {
      "cell_type": "code",
      "source": [
        "if '8' in words[0] or '8' in words[1] or '8' in words[2]:\n",
        "  print(\"test\")\n",
        "else:\n",
        "  print('test1')"
      ],
      "metadata": {
        "colab": {
          "base_uri": "https://localhost:8080/"
        },
        "id": "hj2a0KPiG_mD",
        "outputId": "061bbf7a-6803-4dbd-e9eb-ee02143db1cd"
      },
      "execution_count": null,
      "outputs": [
        {
          "output_type": "stream",
          "name": "stdout",
          "text": [
            "test1\n"
          ]
        }
      ]
    },
    {
      "cell_type": "code",
      "source": [
        "def write_tour_file(string):\n",
        "  with open(\"tour_v2.txt\", \"wt\") as fp:\n",
        "    fp.write(string)"
      ],
      "metadata": {
        "id": "9U7DqkSOhE4a"
      },
      "execution_count": null,
      "outputs": []
    },
    {
      "cell_type": "code",
      "source": [
        "write_tour_file(string)"
      ],
      "metadata": {
        "id": "35n8gfQGkvLP"
      },
      "execution_count": null,
      "outputs": []
    },
    {
      "cell_type": "code",
      "source": [
        "from itertools import combinations, permutations\n",
        "from collections import OrderedDict\n",
        "import bisect\n",
        "\n",
        "import pandas as pd\n",
        "import numpy as np\n",
        "import matplotlib.pyplot as plt\n",
        "from tqdm import tqdm\n",
        "\n",
        "mapping = {}\n",
        "perms = []\n",
        "\n",
        "perms = list(map(lambda x: \"\".join(x), permutations(\"1234567\")))\n",
        "for i, comb in enumerate(perms):\n",
        "    mapping[comb] = i"
      ],
      "metadata": {
        "id": "tRGBw_Ffkjmv"
      },
      "execution_count": null,
      "outputs": []
    },
    {
      "cell_type": "code",
      "source": [
        "len(mapping)"
      ],
      "metadata": {
        "colab": {
          "base_uri": "https://localhost:8080/"
        },
        "id": "yJgdUg_lpTk5",
        "outputId": "04779819-4674-4fea-b122-94a152376b81"
      },
      "execution_count": null,
      "outputs": [
        {
          "output_type": "execute_result",
          "data": {
            "text/plain": [
              "5040"
            ]
          },
          "metadata": {},
          "execution_count": 195
        }
      ]
    },
    {
      "cell_type": "code",
      "source": [
        "whole_positive = np.zeros((len(string), 5040), dtype=np.int32)\n",
        "for i in range(6, len(string)):\n",
        "    try:\n",
        "        whole_positive[i, mapping[string[i-6:i+1]]] += 1\n",
        "    except:\n",
        "        pass\n",
        "    \n",
        "whole_accum = whole_positive.cumsum(axis=0)"
      ],
      "metadata": {
        "id": "pOGYQ5cWq-YX"
      },
      "execution_count": null,
      "outputs": []
    },
    {
      "cell_type": "code",
      "source": [
        "whole_accum"
      ],
      "metadata": {
        "colab": {
          "base_uri": "https://localhost:8080/"
        },
        "id": "yF_wDoT8rtPw",
        "outputId": "50430884-f977-404a-979c-023247c128a7"
      },
      "execution_count": null,
      "outputs": [
        {
          "output_type": "execute_result",
          "data": {
            "text/plain": [
              "array([[0, 0, 0, ..., 0, 0, 0],\n",
              "       [0, 0, 0, ..., 0, 0, 0],\n",
              "       [0, 0, 0, ..., 0, 0, 0],\n",
              "       ...,\n",
              "       [1, 1, 1, ..., 3, 3, 3],\n",
              "       [1, 1, 1, ..., 3, 3, 3],\n",
              "       [1, 1, 1, ..., 3, 3, 3]])"
            ]
          },
          "metadata": {},
          "execution_count": 197
        }
      ]
    },
    {
      "cell_type": "code",
      "source": [
        "santa_prefix_indices = [i for i,c in enumerate(perms) if c[:2] == \"54\"]\n",
        "print(len(santa_prefix_indices))\n",
        "\n",
        "santa_accum = whole_accum[:, santa_prefix_indices]"
      ],
      "metadata": {
        "colab": {
          "base_uri": "https://localhost:8080/"
        },
        "id": "lrytRRP4sF6E",
        "outputId": "d8c6b211-15a1-4241-a212-e98861e01151"
      },
      "execution_count": null,
      "outputs": [
        {
          "output_type": "stream",
          "name": "stdout",
          "text": [
            "120\n"
          ]
        }
      ]
    },
    {
      "cell_type": "code",
      "source": [
        "def find_best_split(accum, left_begin, index):\n",
        "    \"\"\"Split array[left_begin:] to [left_begin:index] and [index-epsilon:]\"\"\"\n",
        "    left = accum[index-1] - accum[left_begin+5]\n",
        "    class CountMissing:\n",
        "        def __getitem__(self, right_begin):\n",
        "            right = accum[-1] - accum[right_begin+5]\n",
        "            return np.sum((left == 0) & (right == 0))\n",
        "\n",
        "    right_begin_sufficient = index - 6\n",
        "    count_missing = CountMissing()\n",
        "    assert count_missing[right_begin_sufficient] == count_missing[left_begin]\n",
        "    return bisect.bisect_right(count_missing, count_missing[left_begin], lo=right_begin_sufficient, hi=len(accum)) - 1\n",
        "\n",
        "i1 = 10\n",
        "i2 = find_best_split(whole_accum, 0, i1)\n",
        "print(i2)\n",
        "assert np.all(whole_positive[:i1].sum(axis=0) + whole_positive[i2+6:].sum(axis=0) > 0)"
      ],
      "metadata": {
        "colab": {
          "base_uri": "https://localhost:8080/"
        },
        "id": "7yuzOZb5sVhD",
        "outputId": "93f4e308-c12b-4637-cbc6-7a78f2d0fc81"
      },
      "execution_count": null,
      "outputs": [
        {
          "output_type": "stream",
          "name": "stdout",
          "text": [
            "4\n"
          ]
        }
      ]
    },
    {
      "cell_type": "code",
      "source": [
        "i1s = np.arange(7, len(string)-7)\n",
        "i2s = np.array([find_best_split(whole_accum, 0, i1) for i1 in i1s])\n",
        "\n",
        "possible_gap = set(i1s[i1s-6 < i2s])\n",
        "len(possible_gap)"
      ],
      "metadata": {
        "colab": {
          "base_uri": "https://localhost:8080/"
        },
        "id": "rzzvuX1Ws5Of",
        "outputId": "fb244069-9342-46b8-c66c-5a32d60cd8ef"
      },
      "execution_count": null,
      "outputs": [
        {
          "output_type": "execute_result",
          "data": {
            "text/plain": [
              "3469"
            ]
          },
          "metadata": {},
          "execution_count": 200
        }
      ]
    },
    {
      "cell_type": "code",
      "source": [
        "best_cost = 3505\n",
        "best_ans = None\n",
        "\n",
        "for left_end in tqdm(np.arange(7, len(string)-7)):\n",
        "    missing_santas_left = (santa_accum[left_end-1] == 0).sum()\n",
        "    left_cost = left_end + 7 * missing_santas_left\n",
        "    if best_cost <= left_cost:\n",
        "        continue\n",
        "    mid_begin = find_best_split(whole_accum, 0, left_end)\n",
        "    mid_end_candidates = np.arange(max(mid_begin+7, len(string)-best_cost), min(len(string) - 7, mid_begin+best_cost))\n",
        "    if len(mid_end_candidates) == 0:\n",
        "        continue\n",
        "    missing_santas_mid = (santa_accum[mid_end_candidates] - santa_accum[mid_begin+5] == 0).sum(axis=1) # monotonous increase\n",
        "    mid_cost = (mid_end_candidates - mid_begin) + 7 * missing_santas_mid\n",
        "    \n",
        "#     right_begin_candidates = mid_end_candidates - 6\n",
        "    right_begin_candidates = np.array([\n",
        "        (find_best_split(whole_accum, mid_begin, _mid_end) if _mid_end in possible_gap else _mid_end - 6)\n",
        "        for _mid_end in mid_end_candidates])\n",
        "\n",
        "    missing_santas_right = (santa_accum[-1] - santa_accum[right_begin_candidates+5] == 0).sum(axis=1)\n",
        "    right_cost = (len(string) - right_begin_candidates) + 7 * missing_santas_right\n",
        "    \n",
        "    midright_cost = np.maximum(mid_cost, right_cost)\n",
        "    _best_index = np.argmin(midright_cost)\n",
        "    \n",
        "    cost = max(left_cost, midright_cost[_best_index])\n",
        "    if best_cost > cost:\n",
        "        best_cost = cost\n",
        "        best_ans = left_end, mid_begin, mid_end_candidates[_best_index], right_begin_candidates[_best_index]\n",
        "\n",
        "best_cost"
      ],
      "metadata": {
        "colab": {
          "base_uri": "https://localhost:8080/"
        },
        "id": "tE9WE5kEtAFE",
        "outputId": "82aab196-f070-466d-fe20-9859af4d0fe6"
      },
      "execution_count": null,
      "outputs": [
        {
          "output_type": "stream",
          "name": "stderr",
          "text": [
            "100%|██████████| 7658/7658 [04:41<00:00, 27.20it/s]\n"
          ]
        },
        {
          "output_type": "execute_result",
          "data": {
            "text/plain": [
              "3121"
            ]
          },
          "metadata": {},
          "execution_count": 201
        }
      ]
    },
    {
      "cell_type": "code",
      "source": [
        "left_end, mid_begin, mid_end, right_begin = best_ans\n",
        "f1 = whole_positive[:left_end].sum(axis=0)\n",
        "f2 = whole_positive[mid_begin+6:mid_end].sum(axis=0)\n",
        "f3 = whole_positive[right_begin+6:].sum(axis=0)\n",
        "assert np.all(f1 + f2 + f3 > 0)\n",
        "x1 = string[:left_end] + \"\".join([perms[i] for i in santa_prefix_indices if f1[i] == 0])\n",
        "x2 = string[mid_begin:mid_end] + \"\".join([perms[i] for i in santa_prefix_indices if f2[i] == 0])\n",
        "x3 = string[right_begin:] + \"\".join([perms[i] for i in santa_prefix_indices if f3[i] == 0])\n",
        "answer = [x1, x2, x3]"
      ],
      "metadata": {
        "id": "Bfy31oFktGd3"
      },
      "execution_count": null,
      "outputs": []
    },
    {
      "cell_type": "code",
      "source": [
        "words = [a.translate(str.maketrans(\"1234567\", \"🦌🧝🎄🤶🎅🎁🎀\")) for a in answer]\n",
        "\n",
        "submission = pd.Series(words, name='schedule')\n",
        "submission.to_csv('submission.csv', index=False)\n",
        "\n",
        "display(submission)\n",
        "display(submission.apply(len).rename(\"Lengths\"))"
      ],
      "metadata": {
        "colab": {
          "base_uri": "https://localhost:8080/",
          "height": 176
        },
        "id": "a6wEz_WjtjIQ",
        "outputId": "6c663637-b726-4dd2-f6a8-53ad0ab04cf5"
      },
      "execution_count": null,
      "outputs": [
        {
          "output_type": "display_data",
          "data": {
            "text/plain": [
              "0    🎀🦌🎁🤶🎄🧝🎅🎀🦌🎁🤶🎄🧝🎁🎀🎅🦌🤶🎄🧝🎁🎀🎅🤶🦌🎄🧝🎁🎀🎅🤶🦌🎄🧝🎁🎀🎅🤶🎄🦌🧝🎁🎀🎅🤶🎄...\n",
              "1    🧝🎄🦌🎁🤶🎀🎅🧝🎄🦌🎁🤶🎀🧝🎅🎄🦌🎁🤶🎀🧝🎄🎅🦌🎁🤶🎀🧝🎄🦌🎅🎁🤶🎀🧝🎄🦌🎁🎅🤶🎀🧝🎄🦌🎁🎅...\n",
              "2    🎁🎄🤶🎀🦌🧝🎅🎁🎄🎀🤶🦌🧝🎅🎁🎄🎀🦌🤶🧝🎅🎁🎄🎀🦌🧝🤶🎅🎁🎄🦌🎀🧝🤶🎅🎁🎄🦌🧝🎀🤶🎅🎁🎄🦌🧝...\n",
              "Name: schedule, dtype: object"
            ]
          },
          "metadata": {}
        },
        {
          "output_type": "display_data",
          "data": {
            "text/plain": [
              "0    2871\n",
              "1    2872\n",
              "2    2872\n",
              "Name: Lengths, dtype: int64"
            ]
          },
          "metadata": {}
        }
      ]
    },
    {
      "cell_type": "code",
      "source": [
        "%%bash\n",
        "kaggle competitions submit -c santa-2021 -f submission.csv -m \"Message\""
      ],
      "metadata": {
        "colab": {
          "base_uri": "https://localhost:8080/"
        },
        "id": "CKe7XeE4v4_q",
        "outputId": "ffba8454-327e-4c9c-d004-7bc28a03dcf0"
      },
      "execution_count": null,
      "outputs": [
        {
          "output_type": "stream",
          "name": "stdout",
          "text": [
            "Warning: Looks like you're using an outdated API Version, please consider updating (server 1.5.12 / client 1.5.4)\n",
            "Successfully submitted to Santa 2021 - The Merry Movie Montage"
          ]
        },
        {
          "output_type": "stream",
          "name": "stderr",
          "text": [
            "\r  0%|          | 0.00/27.3k [00:00<?, ?B/s]\r100%|##########| 27.3k/27.3k [00:03<00:00, 9.24kB/s]\n"
          ]
        }
      ]
    },
    {
      "cell_type": "code",
      "source": [
        ""
      ],
      "metadata": {
        "id": "QgNJYh_DwbHX"
      },
      "execution_count": null,
      "outputs": []
    }
  ]
}